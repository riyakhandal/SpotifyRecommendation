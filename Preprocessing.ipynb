{
 "cells": [
  {
   "cell_type": "markdown",
   "metadata": {},
   "source": [
    "# Importing the libraries"
   ]
  },
  {
   "cell_type": "code",
   "execution_count": 1,
   "metadata": {},
   "outputs": [],
   "source": [
    "import os\n",
    "import pandas as pd\n",
    "import numpy as np\n",
    "import json\n",
    "import spotipy\n",
    "import spotipy.oauth2 as oauth2\n",
    "from spotipy.oauth2 import SpotifyOAuth,SpotifyClientCredentials\n",
    "import yaml\n",
    "import re\n",
    "from tqdm import tqdm\n",
    "import multiprocessing as mp\n",
    "import time\n",
    "import random\n",
    "import datetime\n",
    "\n",
    "from sklearn.feature_extraction.text import TfidfVectorizer\n",
    "from sklearn.metrics.pairwise import cosine_similarity\n",
    "from sklearn.preprocessing import MinMaxScaler\n",
    "import matplotlib.pyplot as plt"
   ]
  },
  {
   "cell_type": "code",
   "execution_count": 2,
   "metadata": {},
   "outputs": [],
   "source": [
    "stream= open(\"spotify/spotify.yaml\")\n",
    "spotify_details = yaml.safe_load(stream)\n",
    "auth_manager = SpotifyClientCredentials(client_id=spotify_details['Client_id'],\n",
    "                                        client_secret=spotify_details['client_secret'])\n",
    "sp = spotipy.client.Spotify(auth_manager=auth_manager)"
   ]
  },
  {
   "cell_type": "markdown",
   "metadata": {},
   "source": [
    "# Importing the dataset"
   ]
  },
  {
   "cell_type": "code",
   "execution_count": 3,
   "metadata": {},
   "outputs": [],
   "source": [
    "df=pd.read_csv('Data/1mV3.csv')\n",
    "artist_features=pd.read_csv('Data/artist_features.csv')\n",
    "audio_features=pd.read_csv('Data/audio_features.csv')\n",
    "track_features=pd.read_csv('Data/track_features.csv')"
   ]
  },
  {
   "cell_type": "code",
   "execution_count": 4,
   "metadata": {},
   "outputs": [
    {
     "data": {
      "text/html": [
       "<div>\n",
       "<style scoped>\n",
       "    .dataframe tbody tr th:only-of-type {\n",
       "        vertical-align: middle;\n",
       "    }\n",
       "\n",
       "    .dataframe tbody tr th {\n",
       "        vertical-align: top;\n",
       "    }\n",
       "\n",
       "    .dataframe thead th {\n",
       "        text-align: right;\n",
       "    }\n",
       "</style>\n",
       "<table border=\"1\" class=\"dataframe\">\n",
       "  <thead>\n",
       "    <tr style=\"text-align: right;\">\n",
       "      <th></th>\n",
       "      <th>Unnamed: 0</th>\n",
       "      <th>track_uri</th>\n",
       "      <th>artist_uri</th>\n",
       "      <th>album_uri</th>\n",
       "    </tr>\n",
       "  </thead>\n",
       "  <tbody>\n",
       "    <tr>\n",
       "      <th>0</th>\n",
       "      <td>0</td>\n",
       "      <td>3uvsVUrAaGQJCTEUR1S3Sx</td>\n",
       "      <td>0ypTT9UqAU5sZpPo5JZmjR</td>\n",
       "      <td>2kIoMj5Ht14l2PnNRa2abC</td>\n",
       "    </tr>\n",
       "    <tr>\n",
       "      <th>1</th>\n",
       "      <td>0</td>\n",
       "      <td>0heE5tAAaDQmnGhVDImPl2</td>\n",
       "      <td>0h3YCmvRJ2jqt4jFiR6nGL</td>\n",
       "      <td>3g7TTE6375PGIBsM9Tlk9I</td>\n",
       "    </tr>\n",
       "    <tr>\n",
       "      <th>2</th>\n",
       "      <td>0</td>\n",
       "      <td>3omXshBamrREltcf24gYDC</td>\n",
       "      <td>6VDdCwrBM4qQaGxoAyxyJC</td>\n",
       "      <td>2H09itV5a5yUcGyk9u9HwY</td>\n",
       "    </tr>\n",
       "    <tr>\n",
       "      <th>3</th>\n",
       "      <td>0</td>\n",
       "      <td>6TYWE19e35N7Bn5heHwyY6</td>\n",
       "      <td>4uNv6RD2YXwoaKgHfJZkkL</td>\n",
       "      <td>38y7zXf95O9Afh7ZXIoyq1</td>\n",
       "    </tr>\n",
       "    <tr>\n",
       "      <th>4</th>\n",
       "      <td>0</td>\n",
       "      <td>1xznGGDReH1oQq0xzbwXa3</td>\n",
       "      <td>3TVXtAsR1Inumwj472S9r4</td>\n",
       "      <td>3hARKC8cinq3mZLLAEaBh9</td>\n",
       "    </tr>\n",
       "  </tbody>\n",
       "</table>\n",
       "</div>"
      ],
      "text/plain": [
       "   Unnamed: 0               track_uri              artist_uri  \\\n",
       "0           0  3uvsVUrAaGQJCTEUR1S3Sx  0ypTT9UqAU5sZpPo5JZmjR   \n",
       "1           0  0heE5tAAaDQmnGhVDImPl2  0h3YCmvRJ2jqt4jFiR6nGL   \n",
       "2           0  3omXshBamrREltcf24gYDC  6VDdCwrBM4qQaGxoAyxyJC   \n",
       "3           0  6TYWE19e35N7Bn5heHwyY6  4uNv6RD2YXwoaKgHfJZkkL   \n",
       "4           0  1xznGGDReH1oQq0xzbwXa3  3TVXtAsR1Inumwj472S9r4   \n",
       "\n",
       "                album_uri  \n",
       "0  2kIoMj5Ht14l2PnNRa2abC  \n",
       "1  3g7TTE6375PGIBsM9Tlk9I  \n",
       "2  2H09itV5a5yUcGyk9u9HwY  \n",
       "3  38y7zXf95O9Afh7ZXIoyq1  \n",
       "4  3hARKC8cinq3mZLLAEaBh9  "
      ]
     },
     "execution_count": 4,
     "metadata": {},
     "output_type": "execute_result"
    }
   ],
   "source": [
    "df.head()"
   ]
  },
  {
   "cell_type": "code",
   "execution_count": 5,
   "metadata": {},
   "outputs": [
    {
     "data": {
      "text/html": [
       "<div>\n",
       "<style scoped>\n",
       "    .dataframe tbody tr th:only-of-type {\n",
       "        vertical-align: middle;\n",
       "    }\n",
       "\n",
       "    .dataframe tbody tr th {\n",
       "        vertical-align: top;\n",
       "    }\n",
       "\n",
       "    .dataframe thead th {\n",
       "        text-align: right;\n",
       "    }\n",
       "</style>\n",
       "<table border=\"1\" class=\"dataframe\">\n",
       "  <thead>\n",
       "    <tr style=\"text-align: right;\">\n",
       "      <th></th>\n",
       "      <th>danceability</th>\n",
       "      <th>energy</th>\n",
       "      <th>key</th>\n",
       "      <th>loudness</th>\n",
       "      <th>mode</th>\n",
       "      <th>speechiness</th>\n",
       "      <th>acousticness</th>\n",
       "      <th>instrumentalness</th>\n",
       "      <th>liveness</th>\n",
       "      <th>valence</th>\n",
       "      <th>tempo</th>\n",
       "      <th>type</th>\n",
       "      <th>id</th>\n",
       "      <th>uri</th>\n",
       "      <th>track_href</th>\n",
       "      <th>analysis_url</th>\n",
       "      <th>duration_ms</th>\n",
       "      <th>time_signature</th>\n",
       "    </tr>\n",
       "  </thead>\n",
       "  <tbody>\n",
       "    <tr>\n",
       "      <th>0</th>\n",
       "      <td>0.523</td>\n",
       "      <td>0.422</td>\n",
       "      <td>3</td>\n",
       "      <td>-10.385</td>\n",
       "      <td>0</td>\n",
       "      <td>0.027</td>\n",
       "      <td>0.783</td>\n",
       "      <td>0.00514</td>\n",
       "      <td>0.0898</td>\n",
       "      <td>0.145</td>\n",
       "      <td>129.876</td>\n",
       "      <td>audio_features</td>\n",
       "      <td>3uvsVUrAaGQJCTEUR1S3Sx</td>\n",
       "      <td>spotify:track:3uvsVUrAaGQJCTEUR1S3Sx</td>\n",
       "      <td>https://api.spotify.com/v1/tracks/3uvsVUrAaGQJ...</td>\n",
       "      <td>https://api.spotify.com/v1/audio-analysis/3uvs...</td>\n",
       "      <td>242060</td>\n",
       "      <td>4</td>\n",
       "    </tr>\n",
       "    <tr>\n",
       "      <th>1</th>\n",
       "      <td>0.493</td>\n",
       "      <td>0.594</td>\n",
       "      <td>8</td>\n",
       "      <td>-4.404</td>\n",
       "      <td>0</td>\n",
       "      <td>0.0378</td>\n",
       "      <td>0.256</td>\n",
       "      <td>0.0</td>\n",
       "      <td>0.0759</td>\n",
       "      <td>0.304</td>\n",
       "      <td>123.751</td>\n",
       "      <td>audio_features</td>\n",
       "      <td>0heE5tAAaDQmnGhVDImPl2</td>\n",
       "      <td>spotify:track:0heE5tAAaDQmnGhVDImPl2</td>\n",
       "      <td>https://api.spotify.com/v1/tracks/0heE5tAAaDQm...</td>\n",
       "      <td>https://api.spotify.com/v1/audio-analysis/0heE...</td>\n",
       "      <td>225515</td>\n",
       "      <td>4</td>\n",
       "    </tr>\n",
       "    <tr>\n",
       "      <th>2</th>\n",
       "      <td>0.468</td>\n",
       "      <td>0.692</td>\n",
       "      <td>2</td>\n",
       "      <td>-4.015</td>\n",
       "      <td>1</td>\n",
       "      <td>0.0295</td>\n",
       "      <td>0.0202</td>\n",
       "      <td>2.39e-06</td>\n",
       "      <td>0.523</td>\n",
       "      <td>0.561</td>\n",
       "      <td>78.009</td>\n",
       "      <td>audio_features</td>\n",
       "      <td>3omXshBamrREltcf24gYDC</td>\n",
       "      <td>spotify:track:3omXshBamrREltcf24gYDC</td>\n",
       "      <td>https://api.spotify.com/v1/tracks/3omXshBamrRE...</td>\n",
       "      <td>https://api.spotify.com/v1/audio-analysis/3omX...</td>\n",
       "      <td>200360</td>\n",
       "      <td>4</td>\n",
       "    </tr>\n",
       "    <tr>\n",
       "      <th>3</th>\n",
       "      <td>0.553</td>\n",
       "      <td>0.564</td>\n",
       "      <td>9</td>\n",
       "      <td>-7.072</td>\n",
       "      <td>0</td>\n",
       "      <td>0.0418</td>\n",
       "      <td>0.039</td>\n",
       "      <td>0.0</td>\n",
       "      <td>0.318</td>\n",
       "      <td>0.31</td>\n",
       "      <td>149.953</td>\n",
       "      <td>audio_features</td>\n",
       "      <td>6TYWE19e35N7Bn5heHwyY6</td>\n",
       "      <td>spotify:track:6TYWE19e35N7Bn5heHwyY6</td>\n",
       "      <td>https://api.spotify.com/v1/tracks/6TYWE19e35N7...</td>\n",
       "      <td>https://api.spotify.com/v1/audio-analysis/6TYW...</td>\n",
       "      <td>232643</td>\n",
       "      <td>4</td>\n",
       "    </tr>\n",
       "    <tr>\n",
       "      <th>4</th>\n",
       "      <td>0.791</td>\n",
       "      <td>0.619</td>\n",
       "      <td>1</td>\n",
       "      <td>-5.886</td>\n",
       "      <td>1</td>\n",
       "      <td>0.0532</td>\n",
       "      <td>0.00784</td>\n",
       "      <td>0.00423</td>\n",
       "      <td>0.351</td>\n",
       "      <td>0.371</td>\n",
       "      <td>103.989</td>\n",
       "      <td>audio_features</td>\n",
       "      <td>1xznGGDReH1oQq0xzbwXa3</td>\n",
       "      <td>spotify:track:1xznGGDReH1oQq0xzbwXa3</td>\n",
       "      <td>https://api.spotify.com/v1/tracks/1xznGGDReH1o...</td>\n",
       "      <td>https://api.spotify.com/v1/audio-analysis/1xzn...</td>\n",
       "      <td>173987</td>\n",
       "      <td>4</td>\n",
       "    </tr>\n",
       "  </tbody>\n",
       "</table>\n",
       "</div>"
      ],
      "text/plain": [
       "  danceability energy key loudness mode speechiness acousticness  \\\n",
       "0        0.523  0.422   3  -10.385    0       0.027        0.783   \n",
       "1        0.493  0.594   8   -4.404    0      0.0378        0.256   \n",
       "2        0.468  0.692   2   -4.015    1      0.0295       0.0202   \n",
       "3        0.553  0.564   9   -7.072    0      0.0418        0.039   \n",
       "4        0.791  0.619   1   -5.886    1      0.0532      0.00784   \n",
       "\n",
       "  instrumentalness liveness valence    tempo            type  \\\n",
       "0          0.00514   0.0898   0.145  129.876  audio_features   \n",
       "1              0.0   0.0759   0.304  123.751  audio_features   \n",
       "2         2.39e-06    0.523   0.561   78.009  audio_features   \n",
       "3              0.0    0.318    0.31  149.953  audio_features   \n",
       "4          0.00423    0.351   0.371  103.989  audio_features   \n",
       "\n",
       "                       id                                   uri  \\\n",
       "0  3uvsVUrAaGQJCTEUR1S3Sx  spotify:track:3uvsVUrAaGQJCTEUR1S3Sx   \n",
       "1  0heE5tAAaDQmnGhVDImPl2  spotify:track:0heE5tAAaDQmnGhVDImPl2   \n",
       "2  3omXshBamrREltcf24gYDC  spotify:track:3omXshBamrREltcf24gYDC   \n",
       "3  6TYWE19e35N7Bn5heHwyY6  spotify:track:6TYWE19e35N7Bn5heHwyY6   \n",
       "4  1xznGGDReH1oQq0xzbwXa3  spotify:track:1xznGGDReH1oQq0xzbwXa3   \n",
       "\n",
       "                                          track_href  \\\n",
       "0  https://api.spotify.com/v1/tracks/3uvsVUrAaGQJ...   \n",
       "1  https://api.spotify.com/v1/tracks/0heE5tAAaDQm...   \n",
       "2  https://api.spotify.com/v1/tracks/3omXshBamrRE...   \n",
       "3  https://api.spotify.com/v1/tracks/6TYWE19e35N7...   \n",
       "4  https://api.spotify.com/v1/tracks/1xznGGDReH1o...   \n",
       "\n",
       "                                        analysis_url duration_ms  \\\n",
       "0  https://api.spotify.com/v1/audio-analysis/3uvs...      242060   \n",
       "1  https://api.spotify.com/v1/audio-analysis/0heE...      225515   \n",
       "2  https://api.spotify.com/v1/audio-analysis/3omX...      200360   \n",
       "3  https://api.spotify.com/v1/audio-analysis/6TYW...      232643   \n",
       "4  https://api.spotify.com/v1/audio-analysis/1xzn...      173987   \n",
       "\n",
       "  time_signature  \n",
       "0              4  \n",
       "1              4  \n",
       "2              4  \n",
       "3              4  \n",
       "4              4  "
      ]
     },
     "execution_count": 5,
     "metadata": {},
     "output_type": "execute_result"
    }
   ],
   "source": [
    "audio_features.head()"
   ]
  },
  {
   "cell_type": "code",
   "execution_count": 6,
   "metadata": {},
   "outputs": [
    {
     "data": {
      "text/html": [
       "<div>\n",
       "<style scoped>\n",
       "    .dataframe tbody tr th:only-of-type {\n",
       "        vertical-align: middle;\n",
       "    }\n",
       "\n",
       "    .dataframe tbody tr th {\n",
       "        vertical-align: top;\n",
       "    }\n",
       "\n",
       "    .dataframe thead th {\n",
       "        text-align: right;\n",
       "    }\n",
       "</style>\n",
       "<table border=\"1\" class=\"dataframe\">\n",
       "  <thead>\n",
       "    <tr style=\"text-align: right;\">\n",
       "      <th></th>\n",
       "      <th>0</th>\n",
       "      <th>artist_pop</th>\n",
       "      <th>genres</th>\n",
       "    </tr>\n",
       "  </thead>\n",
       "  <tbody>\n",
       "    <tr>\n",
       "      <th>0</th>\n",
       "      <td>0ypTT9UqAU5sZpPo5JZmjR</td>\n",
       "      <td>35</td>\n",
       "      <td>british_singer-songwriter</td>\n",
       "    </tr>\n",
       "    <tr>\n",
       "      <th>1</th>\n",
       "      <td>0</td>\n",
       "      <td>artist_pop</td>\n",
       "      <td>genres</td>\n",
       "    </tr>\n",
       "    <tr>\n",
       "      <th>2</th>\n",
       "      <td>0h3YCmvRJ2jqt4jFiR6nGL</td>\n",
       "      <td>53</td>\n",
       "      <td>norwegian_pop</td>\n",
       "    </tr>\n",
       "    <tr>\n",
       "      <th>3</th>\n",
       "      <td>0</td>\n",
       "      <td>artist_pop</td>\n",
       "      <td>genres</td>\n",
       "    </tr>\n",
       "    <tr>\n",
       "      <th>4</th>\n",
       "      <td>6VDdCwrBM4qQaGxoAyxyJC</td>\n",
       "      <td>59</td>\n",
       "      <td>indie_rock modern_alternative_rock modern_rock...</td>\n",
       "    </tr>\n",
       "    <tr>\n",
       "      <th>...</th>\n",
       "      <td>...</td>\n",
       "      <td>...</td>\n",
       "      <td>...</td>\n",
       "    </tr>\n",
       "    <tr>\n",
       "      <th>110752</th>\n",
       "      <td>4mAsWDGLUIEdo6imU77WG6</td>\n",
       "      <td>61</td>\n",
       "      <td>italian_adult_pop italian_pop italian_reggae</td>\n",
       "    </tr>\n",
       "    <tr>\n",
       "      <th>110753</th>\n",
       "      <td>0</td>\n",
       "      <td>artist_pop</td>\n",
       "      <td>genres</td>\n",
       "    </tr>\n",
       "    <tr>\n",
       "      <th>110754</th>\n",
       "      <td>0dUnhVUif1WspAfS7QPTQm</td>\n",
       "      <td>41</td>\n",
       "      <td>italian_adult_pop italian_pop italian_pop_rock</td>\n",
       "    </tr>\n",
       "    <tr>\n",
       "      <th>110755</th>\n",
       "      <td>0</td>\n",
       "      <td>artist_pop</td>\n",
       "      <td>genres</td>\n",
       "    </tr>\n",
       "    <tr>\n",
       "      <th>110756</th>\n",
       "      <td>6cEwpKNoFXX85lD6LvZa0v</td>\n",
       "      <td>23</td>\n",
       "      <td>unknown</td>\n",
       "    </tr>\n",
       "  </tbody>\n",
       "</table>\n",
       "<p>110757 rows × 3 columns</p>\n",
       "</div>"
      ],
      "text/plain": [
       "                             0  artist_pop  \\\n",
       "0       0ypTT9UqAU5sZpPo5JZmjR          35   \n",
       "1                            0  artist_pop   \n",
       "2       0h3YCmvRJ2jqt4jFiR6nGL          53   \n",
       "3                            0  artist_pop   \n",
       "4       6VDdCwrBM4qQaGxoAyxyJC          59   \n",
       "...                        ...         ...   \n",
       "110752  4mAsWDGLUIEdo6imU77WG6          61   \n",
       "110753                       0  artist_pop   \n",
       "110754  0dUnhVUif1WspAfS7QPTQm          41   \n",
       "110755                       0  artist_pop   \n",
       "110756  6cEwpKNoFXX85lD6LvZa0v          23   \n",
       "\n",
       "                                                   genres  \n",
       "0                               british_singer-songwriter  \n",
       "1                                                  genres  \n",
       "2                                           norwegian_pop  \n",
       "3                                                  genres  \n",
       "4       indie_rock modern_alternative_rock modern_rock...  \n",
       "...                                                   ...  \n",
       "110752       italian_adult_pop italian_pop italian_reggae  \n",
       "110753                                             genres  \n",
       "110754     italian_adult_pop italian_pop italian_pop_rock  \n",
       "110755                                             genres  \n",
       "110756                                            unknown  \n",
       "\n",
       "[110757 rows x 3 columns]"
      ]
     },
     "execution_count": 6,
     "metadata": {},
     "output_type": "execute_result"
    }
   ],
   "source": [
    "artist_features"
   ]
  },
  {
   "cell_type": "code",
   "execution_count": 7,
   "metadata": {},
   "outputs": [],
   "source": [
    "artist_features = artist_features.loc[~(artist_features.index % 2 == 1)]"
   ]
  },
  {
   "cell_type": "code",
   "execution_count": 8,
   "metadata": {},
   "outputs": [],
   "source": [
    "artist_features.reset_index(drop=True, inplace=True)"
   ]
  },
  {
   "cell_type": "code",
   "execution_count": 9,
   "metadata": {},
   "outputs": [
    {
     "data": {
      "text/html": [
       "<div>\n",
       "<style scoped>\n",
       "    .dataframe tbody tr th:only-of-type {\n",
       "        vertical-align: middle;\n",
       "    }\n",
       "\n",
       "    .dataframe tbody tr th {\n",
       "        vertical-align: top;\n",
       "    }\n",
       "\n",
       "    .dataframe thead th {\n",
       "        text-align: right;\n",
       "    }\n",
       "</style>\n",
       "<table border=\"1\" class=\"dataframe\">\n",
       "  <thead>\n",
       "    <tr style=\"text-align: right;\">\n",
       "      <th></th>\n",
       "      <th>0</th>\n",
       "      <th>artist_pop</th>\n",
       "      <th>genres</th>\n",
       "    </tr>\n",
       "  </thead>\n",
       "  <tbody>\n",
       "    <tr>\n",
       "      <th>0</th>\n",
       "      <td>0ypTT9UqAU5sZpPo5JZmjR</td>\n",
       "      <td>35</td>\n",
       "      <td>british_singer-songwriter</td>\n",
       "    </tr>\n",
       "    <tr>\n",
       "      <th>1</th>\n",
       "      <td>0h3YCmvRJ2jqt4jFiR6nGL</td>\n",
       "      <td>53</td>\n",
       "      <td>norwegian_pop</td>\n",
       "    </tr>\n",
       "    <tr>\n",
       "      <th>2</th>\n",
       "      <td>6VDdCwrBM4qQaGxoAyxyJC</td>\n",
       "      <td>59</td>\n",
       "      <td>indie_rock modern_alternative_rock modern_rock...</td>\n",
       "    </tr>\n",
       "    <tr>\n",
       "      <th>3</th>\n",
       "      <td>4uNv6RD2YXwoaKgHfJZkkL</td>\n",
       "      <td>61</td>\n",
       "      <td>indie_electropop indie_poptimism</td>\n",
       "    </tr>\n",
       "    <tr>\n",
       "      <th>4</th>\n",
       "      <td>3TVXtAsR1Inumwj472S9r4</td>\n",
       "      <td>96</td>\n",
       "      <td>canadian_hip_hop canadian_pop hip_hop rap toro...</td>\n",
       "    </tr>\n",
       "    <tr>\n",
       "      <th>...</th>\n",
       "      <td>...</td>\n",
       "      <td>...</td>\n",
       "      <td>...</td>\n",
       "    </tr>\n",
       "    <tr>\n",
       "      <th>55374</th>\n",
       "      <td>2BBBoWQhHesxgR48zsCEE6</td>\n",
       "      <td>25</td>\n",
       "      <td>unknown</td>\n",
       "    </tr>\n",
       "    <tr>\n",
       "      <th>55375</th>\n",
       "      <td>2nftqfbLohpDYzY8VUlvbm</td>\n",
       "      <td>50</td>\n",
       "      <td>italian_adult_pop italian_pop</td>\n",
       "    </tr>\n",
       "    <tr>\n",
       "      <th>55376</th>\n",
       "      <td>4mAsWDGLUIEdo6imU77WG6</td>\n",
       "      <td>61</td>\n",
       "      <td>italian_adult_pop italian_pop italian_reggae</td>\n",
       "    </tr>\n",
       "    <tr>\n",
       "      <th>55377</th>\n",
       "      <td>0dUnhVUif1WspAfS7QPTQm</td>\n",
       "      <td>41</td>\n",
       "      <td>italian_adult_pop italian_pop italian_pop_rock</td>\n",
       "    </tr>\n",
       "    <tr>\n",
       "      <th>55378</th>\n",
       "      <td>6cEwpKNoFXX85lD6LvZa0v</td>\n",
       "      <td>23</td>\n",
       "      <td>unknown</td>\n",
       "    </tr>\n",
       "  </tbody>\n",
       "</table>\n",
       "<p>55379 rows × 3 columns</p>\n",
       "</div>"
      ],
      "text/plain": [
       "                            0 artist_pop  \\\n",
       "0      0ypTT9UqAU5sZpPo5JZmjR         35   \n",
       "1      0h3YCmvRJ2jqt4jFiR6nGL         53   \n",
       "2      6VDdCwrBM4qQaGxoAyxyJC         59   \n",
       "3      4uNv6RD2YXwoaKgHfJZkkL         61   \n",
       "4      3TVXtAsR1Inumwj472S9r4         96   \n",
       "...                       ...        ...   \n",
       "55374  2BBBoWQhHesxgR48zsCEE6         25   \n",
       "55375  2nftqfbLohpDYzY8VUlvbm         50   \n",
       "55376  4mAsWDGLUIEdo6imU77WG6         61   \n",
       "55377  0dUnhVUif1WspAfS7QPTQm         41   \n",
       "55378  6cEwpKNoFXX85lD6LvZa0v         23   \n",
       "\n",
       "                                                  genres  \n",
       "0                              british_singer-songwriter  \n",
       "1                                          norwegian_pop  \n",
       "2      indie_rock modern_alternative_rock modern_rock...  \n",
       "3                       indie_electropop indie_poptimism  \n",
       "4      canadian_hip_hop canadian_pop hip_hop rap toro...  \n",
       "...                                                  ...  \n",
       "55374                                            unknown  \n",
       "55375                      italian_adult_pop italian_pop  \n",
       "55376       italian_adult_pop italian_pop italian_reggae  \n",
       "55377     italian_adult_pop italian_pop italian_pop_rock  \n",
       "55378                                            unknown  \n",
       "\n",
       "[55379 rows x 3 columns]"
      ]
     },
     "execution_count": 9,
     "metadata": {},
     "output_type": "execute_result"
    }
   ],
   "source": [
    "artist_features"
   ]
  },
  {
   "cell_type": "code",
   "execution_count": 10,
   "metadata": {},
   "outputs": [
    {
     "name": "stderr",
     "output_type": "stream",
     "text": [
      "/var/folders/cm/77wd3wlj2vq84sf8r4wmcm0h0000gn/T/ipykernel_46568/2468738931.py:1: SettingWithCopyWarning: \n",
      "A value is trying to be set on a copy of a slice from a DataFrame\n",
      "\n",
      "See the caveats in the documentation: https://pandas.pydata.org/pandas-docs/stable/user_guide/indexing.html#returning-a-view-versus-a-copy\n",
      "  artist_features.rename(columns = {'0':'Artist_uri', 'artist_pop': 'Artist_pop',\n"
     ]
    }
   ],
   "source": [
    "artist_features.rename(columns = {'0':'Artist_uri', 'artist_pop': 'Artist_pop',\n",
    "                                 'genres':'Artist_genres'}, inplace = True)"
   ]
  },
  {
   "cell_type": "code",
   "execution_count": 13,
   "metadata": {},
   "outputs": [
    {
     "data": {
      "text/html": [
       "<div>\n",
       "<style scoped>\n",
       "    .dataframe tbody tr th:only-of-type {\n",
       "        vertical-align: middle;\n",
       "    }\n",
       "\n",
       "    .dataframe tbody tr th {\n",
       "        vertical-align: top;\n",
       "    }\n",
       "\n",
       "    .dataframe thead th {\n",
       "        text-align: right;\n",
       "    }\n",
       "</style>\n",
       "<table border=\"1\" class=\"dataframe\">\n",
       "  <thead>\n",
       "    <tr style=\"text-align: right;\">\n",
       "      <th></th>\n",
       "      <th>0</th>\n",
       "      <th>release_date</th>\n",
       "      <th>pop</th>\n",
       "    </tr>\n",
       "  </thead>\n",
       "  <tbody>\n",
       "    <tr>\n",
       "      <th>0</th>\n",
       "      <td>3uvsVUrAaGQJCTEUR1S3Sx</td>\n",
       "      <td>2016-02-22</td>\n",
       "      <td>0</td>\n",
       "    </tr>\n",
       "    <tr>\n",
       "      <th>1</th>\n",
       "      <td>0</td>\n",
       "      <td>release_date</td>\n",
       "      <td>pop</td>\n",
       "    </tr>\n",
       "    <tr>\n",
       "      <th>2</th>\n",
       "      <td>0heE5tAAaDQmnGhVDImPl2</td>\n",
       "      <td>2016-01-29</td>\n",
       "      <td>63</td>\n",
       "    </tr>\n",
       "    <tr>\n",
       "      <th>3</th>\n",
       "      <td>0</td>\n",
       "      <td>release_date</td>\n",
       "      <td>pop</td>\n",
       "    </tr>\n",
       "    <tr>\n",
       "      <th>4</th>\n",
       "      <td>3omXshBamrREltcf24gYDC</td>\n",
       "      <td>2014-10-31</td>\n",
       "      <td>68</td>\n",
       "    </tr>\n",
       "    <tr>\n",
       "      <th>...</th>\n",
       "      <td>...</td>\n",
       "      <td>...</td>\n",
       "      <td>...</td>\n",
       "    </tr>\n",
       "    <tr>\n",
       "      <th>591056</th>\n",
       "      <td>6ecs6f2s14nsMHufZ8JGg7</td>\n",
       "      <td>2005</td>\n",
       "      <td>0</td>\n",
       "    </tr>\n",
       "    <tr>\n",
       "      <th>591057</th>\n",
       "      <td>7FKtGleXIAoZdOmlOMWX7m</td>\n",
       "      <td>2015-07-31</td>\n",
       "      <td>0</td>\n",
       "    </tr>\n",
       "    <tr>\n",
       "      <th>591058</th>\n",
       "      <td>0fcjpuekovpysHl9dAH3u1</td>\n",
       "      <td>2000-07-17</td>\n",
       "      <td>19</td>\n",
       "    </tr>\n",
       "    <tr>\n",
       "      <th>591059</th>\n",
       "      <td>6c3aUrNVj9aZy2UBcAuNBC</td>\n",
       "      <td>1994-02-28</td>\n",
       "      <td>12</td>\n",
       "    </tr>\n",
       "    <tr>\n",
       "      <th>591060</th>\n",
       "      <td>2KKZGNbtCtjqDU6vgAZB8I</td>\n",
       "      <td>2007-04-17</td>\n",
       "      <td>31</td>\n",
       "    </tr>\n",
       "  </tbody>\n",
       "</table>\n",
       "<p>591061 rows × 3 columns</p>\n",
       "</div>"
      ],
      "text/plain": [
       "                             0  release_date  pop\n",
       "0       3uvsVUrAaGQJCTEUR1S3Sx    2016-02-22    0\n",
       "1                            0  release_date  pop\n",
       "2       0heE5tAAaDQmnGhVDImPl2    2016-01-29   63\n",
       "3                            0  release_date  pop\n",
       "4       3omXshBamrREltcf24gYDC    2014-10-31   68\n",
       "...                        ...           ...  ...\n",
       "591056  6ecs6f2s14nsMHufZ8JGg7          2005    0\n",
       "591057  7FKtGleXIAoZdOmlOMWX7m    2015-07-31    0\n",
       "591058  0fcjpuekovpysHl9dAH3u1    2000-07-17   19\n",
       "591059  6c3aUrNVj9aZy2UBcAuNBC    1994-02-28   12\n",
       "591060  2KKZGNbtCtjqDU6vgAZB8I    2007-04-17   31\n",
       "\n",
       "[591061 rows x 3 columns]"
      ]
     },
     "execution_count": 13,
     "metadata": {},
     "output_type": "execute_result"
    }
   ],
   "source": [
    "track_features"
   ]
  },
  {
   "cell_type": "code",
   "execution_count": 14,
   "metadata": {},
   "outputs": [],
   "source": [
    "track_features = track_features.loc[~(track_features.index % 2 == 1)]"
   ]
  },
  {
   "cell_type": "code",
   "execution_count": 15,
   "metadata": {},
   "outputs": [],
   "source": [
    "track_features.reset_index(drop=True, inplace=True)"
   ]
  },
  {
   "cell_type": "code",
   "execution_count": 16,
   "metadata": {},
   "outputs": [
    {
     "data": {
      "text/html": [
       "<div>\n",
       "<style scoped>\n",
       "    .dataframe tbody tr th:only-of-type {\n",
       "        vertical-align: middle;\n",
       "    }\n",
       "\n",
       "    .dataframe tbody tr th {\n",
       "        vertical-align: top;\n",
       "    }\n",
       "\n",
       "    .dataframe thead th {\n",
       "        text-align: right;\n",
       "    }\n",
       "</style>\n",
       "<table border=\"1\" class=\"dataframe\">\n",
       "  <thead>\n",
       "    <tr style=\"text-align: right;\">\n",
       "      <th></th>\n",
       "      <th>0</th>\n",
       "      <th>release_date</th>\n",
       "      <th>pop</th>\n",
       "    </tr>\n",
       "  </thead>\n",
       "  <tbody>\n",
       "    <tr>\n",
       "      <th>0</th>\n",
       "      <td>3uvsVUrAaGQJCTEUR1S3Sx</td>\n",
       "      <td>2016-02-22</td>\n",
       "      <td>0</td>\n",
       "    </tr>\n",
       "    <tr>\n",
       "      <th>1</th>\n",
       "      <td>0heE5tAAaDQmnGhVDImPl2</td>\n",
       "      <td>2016-01-29</td>\n",
       "      <td>63</td>\n",
       "    </tr>\n",
       "    <tr>\n",
       "      <th>2</th>\n",
       "      <td>3omXshBamrREltcf24gYDC</td>\n",
       "      <td>2014-10-31</td>\n",
       "      <td>68</td>\n",
       "    </tr>\n",
       "    <tr>\n",
       "      <th>3</th>\n",
       "      <td>6TYWE19e35N7Bn5heHwyY6</td>\n",
       "      <td>2016-04-29</td>\n",
       "      <td>31</td>\n",
       "    </tr>\n",
       "    <tr>\n",
       "      <th>4</th>\n",
       "      <td>1xznGGDReH1oQq0xzbwXa3</td>\n",
       "      <td>2016-05-06</td>\n",
       "      <td>1</td>\n",
       "    </tr>\n",
       "    <tr>\n",
       "      <th>...</th>\n",
       "      <td>...</td>\n",
       "      <td>...</td>\n",
       "      <td>...</td>\n",
       "    </tr>\n",
       "    <tr>\n",
       "      <th>295526</th>\n",
       "      <td>1NfdTbxasqJawyNEIEHCRY</td>\n",
       "      <td>2016-01-01</td>\n",
       "      <td>22</td>\n",
       "    </tr>\n",
       "    <tr>\n",
       "      <th>295527</th>\n",
       "      <td>7tFhes1fDmen8DW9AFC8iv</td>\n",
       "      <td>2017-03-10</td>\n",
       "      <td>36</td>\n",
       "    </tr>\n",
       "    <tr>\n",
       "      <th>295528</th>\n",
       "      <td>6ecs6f2s14nsMHufZ8JGg7</td>\n",
       "      <td>2005</td>\n",
       "      <td>0</td>\n",
       "    </tr>\n",
       "    <tr>\n",
       "      <th>295529</th>\n",
       "      <td>0fcjpuekovpysHl9dAH3u1</td>\n",
       "      <td>2000-07-17</td>\n",
       "      <td>19</td>\n",
       "    </tr>\n",
       "    <tr>\n",
       "      <th>295530</th>\n",
       "      <td>2KKZGNbtCtjqDU6vgAZB8I</td>\n",
       "      <td>2007-04-17</td>\n",
       "      <td>31</td>\n",
       "    </tr>\n",
       "  </tbody>\n",
       "</table>\n",
       "<p>295531 rows × 3 columns</p>\n",
       "</div>"
      ],
      "text/plain": [
       "                             0 release_date pop\n",
       "0       3uvsVUrAaGQJCTEUR1S3Sx   2016-02-22   0\n",
       "1       0heE5tAAaDQmnGhVDImPl2   2016-01-29  63\n",
       "2       3omXshBamrREltcf24gYDC   2014-10-31  68\n",
       "3       6TYWE19e35N7Bn5heHwyY6   2016-04-29  31\n",
       "4       1xznGGDReH1oQq0xzbwXa3   2016-05-06   1\n",
       "...                        ...          ...  ..\n",
       "295526  1NfdTbxasqJawyNEIEHCRY   2016-01-01  22\n",
       "295527  7tFhes1fDmen8DW9AFC8iv   2017-03-10  36\n",
       "295528  6ecs6f2s14nsMHufZ8JGg7         2005   0\n",
       "295529  0fcjpuekovpysHl9dAH3u1   2000-07-17  19\n",
       "295530  2KKZGNbtCtjqDU6vgAZB8I   2007-04-17  31\n",
       "\n",
       "[295531 rows x 3 columns]"
      ]
     },
     "execution_count": 16,
     "metadata": {},
     "output_type": "execute_result"
    }
   ],
   "source": [
    "track_features"
   ]
  },
  {
   "cell_type": "code",
   "execution_count": 17,
   "metadata": {},
   "outputs": [
    {
     "name": "stderr",
     "output_type": "stream",
     "text": [
      "/var/folders/cm/77wd3wlj2vq84sf8r4wmcm0h0000gn/T/ipykernel_46568/1618365753.py:1: SettingWithCopyWarning: \n",
      "A value is trying to be set on a copy of a slice from a DataFrame\n",
      "\n",
      "See the caveats in the documentation: https://pandas.pydata.org/pandas-docs/stable/user_guide/indexing.html#returning-a-view-versus-a-copy\n",
      "  track_features.rename(columns = {'0':'Track_uri', 'release_date': 'Track_release_date',\n"
     ]
    }
   ],
   "source": [
    "track_features.rename(columns = {'0':'Track_uri', 'release_date': 'Track_release_date',\n",
    "                                'pop':'Track_pop'}, inplace = True)"
   ]
  },
  {
   "cell_type": "code",
   "execution_count": 18,
   "metadata": {},
   "outputs": [
    {
     "data": {
      "text/html": [
       "<div>\n",
       "<style scoped>\n",
       "    .dataframe tbody tr th:only-of-type {\n",
       "        vertical-align: middle;\n",
       "    }\n",
       "\n",
       "    .dataframe tbody tr th {\n",
       "        vertical-align: top;\n",
       "    }\n",
       "\n",
       "    .dataframe thead th {\n",
       "        text-align: right;\n",
       "    }\n",
       "</style>\n",
       "<table border=\"1\" class=\"dataframe\">\n",
       "  <thead>\n",
       "    <tr style=\"text-align: right;\">\n",
       "      <th></th>\n",
       "      <th>Track_uri</th>\n",
       "      <th>Track_release_date</th>\n",
       "      <th>Track_pop</th>\n",
       "    </tr>\n",
       "  </thead>\n",
       "  <tbody>\n",
       "    <tr>\n",
       "      <th>0</th>\n",
       "      <td>3uvsVUrAaGQJCTEUR1S3Sx</td>\n",
       "      <td>2016-02-22</td>\n",
       "      <td>0</td>\n",
       "    </tr>\n",
       "    <tr>\n",
       "      <th>1</th>\n",
       "      <td>0heE5tAAaDQmnGhVDImPl2</td>\n",
       "      <td>2016-01-29</td>\n",
       "      <td>63</td>\n",
       "    </tr>\n",
       "    <tr>\n",
       "      <th>2</th>\n",
       "      <td>3omXshBamrREltcf24gYDC</td>\n",
       "      <td>2014-10-31</td>\n",
       "      <td>68</td>\n",
       "    </tr>\n",
       "    <tr>\n",
       "      <th>3</th>\n",
       "      <td>6TYWE19e35N7Bn5heHwyY6</td>\n",
       "      <td>2016-04-29</td>\n",
       "      <td>31</td>\n",
       "    </tr>\n",
       "    <tr>\n",
       "      <th>4</th>\n",
       "      <td>1xznGGDReH1oQq0xzbwXa3</td>\n",
       "      <td>2016-05-06</td>\n",
       "      <td>1</td>\n",
       "    </tr>\n",
       "    <tr>\n",
       "      <th>...</th>\n",
       "      <td>...</td>\n",
       "      <td>...</td>\n",
       "      <td>...</td>\n",
       "    </tr>\n",
       "    <tr>\n",
       "      <th>295526</th>\n",
       "      <td>1NfdTbxasqJawyNEIEHCRY</td>\n",
       "      <td>2016-01-01</td>\n",
       "      <td>22</td>\n",
       "    </tr>\n",
       "    <tr>\n",
       "      <th>295527</th>\n",
       "      <td>7tFhes1fDmen8DW9AFC8iv</td>\n",
       "      <td>2017-03-10</td>\n",
       "      <td>36</td>\n",
       "    </tr>\n",
       "    <tr>\n",
       "      <th>295528</th>\n",
       "      <td>6ecs6f2s14nsMHufZ8JGg7</td>\n",
       "      <td>2005</td>\n",
       "      <td>0</td>\n",
       "    </tr>\n",
       "    <tr>\n",
       "      <th>295529</th>\n",
       "      <td>0fcjpuekovpysHl9dAH3u1</td>\n",
       "      <td>2000-07-17</td>\n",
       "      <td>19</td>\n",
       "    </tr>\n",
       "    <tr>\n",
       "      <th>295530</th>\n",
       "      <td>2KKZGNbtCtjqDU6vgAZB8I</td>\n",
       "      <td>2007-04-17</td>\n",
       "      <td>31</td>\n",
       "    </tr>\n",
       "  </tbody>\n",
       "</table>\n",
       "<p>295531 rows × 3 columns</p>\n",
       "</div>"
      ],
      "text/plain": [
       "                     Track_uri Track_release_date Track_pop\n",
       "0       3uvsVUrAaGQJCTEUR1S3Sx         2016-02-22         0\n",
       "1       0heE5tAAaDQmnGhVDImPl2         2016-01-29        63\n",
       "2       3omXshBamrREltcf24gYDC         2014-10-31        68\n",
       "3       6TYWE19e35N7Bn5heHwyY6         2016-04-29        31\n",
       "4       1xznGGDReH1oQq0xzbwXa3         2016-05-06         1\n",
       "...                        ...                ...       ...\n",
       "295526  1NfdTbxasqJawyNEIEHCRY         2016-01-01        22\n",
       "295527  7tFhes1fDmen8DW9AFC8iv         2017-03-10        36\n",
       "295528  6ecs6f2s14nsMHufZ8JGg7               2005         0\n",
       "295529  0fcjpuekovpysHl9dAH3u1         2000-07-17        19\n",
       "295530  2KKZGNbtCtjqDU6vgAZB8I         2007-04-17        31\n",
       "\n",
       "[295531 rows x 3 columns]"
      ]
     },
     "execution_count": 18,
     "metadata": {},
     "output_type": "execute_result"
    }
   ],
   "source": [
    "track_features"
   ]
  },
  {
   "cell_type": "code",
   "execution_count": null,
   "metadata": {},
   "outputs": [],
   "source": []
  },
  {
   "cell_type": "markdown",
   "metadata": {},
   "source": [
    "# Merging all dataframes"
   ]
  },
  {
   "cell_type": "code",
   "execution_count": 19,
   "metadata": {},
   "outputs": [],
   "source": [
    "df = pd.merge(df,audio_features, left_on = \"track_uri\", right_on= \"id\",how = 'outer')"
   ]
  },
  {
   "cell_type": "code",
   "execution_count": 20,
   "metadata": {},
   "outputs": [],
   "source": [
    "df = pd.merge(df,track_features, left_on = \"track_uri\", right_on= \"Track_uri\",how = 'outer')"
   ]
  },
  {
   "cell_type": "code",
   "execution_count": 21,
   "metadata": {},
   "outputs": [],
   "source": [
    "df = pd.merge(df,artist_features, left_on = \"artist_uri\", right_on= \"Artist_uri\",how = 'outer')"
   ]
  },
  {
   "cell_type": "markdown",
   "metadata": {},
   "source": [
    "# Handling missing data "
   ]
  },
  {
   "cell_type": "code",
   "execution_count": 22,
   "metadata": {},
   "outputs": [
    {
     "data": {
      "text/plain": [
       "Unnamed: 0            2962\n",
       "track_uri             2962\n",
       "artist_uri            2962\n",
       "album_uri             2962\n",
       "danceability             9\n",
       "energy                   9\n",
       "key                      9\n",
       "loudness                 9\n",
       "mode                     9\n",
       "speechiness              9\n",
       "acousticness             9\n",
       "instrumentalness         9\n",
       "liveness                 9\n",
       "valence                  9\n",
       "tempo                    9\n",
       "type                     9\n",
       "id                       9\n",
       "uri                      9\n",
       "track_href               9\n",
       "analysis_url             9\n",
       "duration_ms              9\n",
       "time_signature           9\n",
       "Track_uri             3349\n",
       "Track_release_date    3349\n",
       "Track_pop             3349\n",
       "Artist_uri            2962\n",
       "Artist_pop            2962\n",
       "Artist_genres         2962\n",
       "dtype: int64"
      ]
     },
     "execution_count": 22,
     "metadata": {},
     "output_type": "execute_result"
    }
   ],
   "source": [
    "df.isna().sum()"
   ]
  },
  {
   "cell_type": "code",
   "execution_count": 23,
   "metadata": {},
   "outputs": [
    {
     "data": {
      "text/plain": [
       "Index(['Unnamed: 0', 'track_uri', 'artist_uri', 'album_uri', 'danceability',\n",
       "       'energy', 'key', 'loudness', 'mode', 'speechiness', 'acousticness',\n",
       "       'instrumentalness', 'liveness', 'valence', 'tempo', 'type', 'id', 'uri',\n",
       "       'track_href', 'analysis_url', 'duration_ms', 'time_signature',\n",
       "       'Track_uri', 'Track_release_date', 'Track_pop', 'Artist_uri',\n",
       "       'Artist_pop', 'Artist_genres'],\n",
       "      dtype='object')"
      ]
     },
     "execution_count": 23,
     "metadata": {},
     "output_type": "execute_result"
    }
   ],
   "source": [
    "df.columns"
   ]
  },
  {
   "cell_type": "markdown",
   "metadata": {},
   "source": [
    "## Handling audio_features missing From extraction"
   ]
  },
  {
   "cell_type": "code",
   "execution_count": 24,
   "metadata": {},
   "outputs": [],
   "source": [
    "missing_t_uri=df.track_uri[df.id.isna()]\n",
    "missing_t_uri=missing_t_uri.unique()\n",
    "random.shuffle(missing_t_uri)"
   ]
  },
  {
   "cell_type": "code",
   "execution_count": 25,
   "metadata": {},
   "outputs": [
    {
     "name": "stderr",
     "output_type": "stream",
     "text": [
      "100%|█████████████████████████████████████████████| 4/4 [00:01<00:00,  2.02it/s]\n"
     ]
    }
   ],
   "source": [
    "f = open('data/audio_features.csv','a')\n",
    "for i in tqdm(range(0,len(missing_t_uri),1)):\n",
    "    try:\n",
    "     track_feature = sp.audio_features(missing_t_uri[i:i+1])\n",
    "     track_df = pd.DataFrame(track_feature)\n",
    "     csv_data = track_df.to_csv(header=False,index=False)\n",
    "     f.write(csv_data)\n",
    "    except Exception as e:\n",
    "        r = open(\"extract_log0.txt\", \"a\")\n",
    "        r.write(datetime.datetime.now().strftime(\"%d.%b %Y %H:%M:%S\")+\": \"+str(e)+'\\n')\n",
    "        r.close()\n",
    "        time.sleep(1)\n",
    "        continue\n",
    "f.close()"
   ]
  },
  {
   "cell_type": "markdown",
   "metadata": {},
   "source": [
    "## Handling track_features missing From extraction"
   ]
  },
  {
   "cell_type": "code",
   "execution_count": 26,
   "metadata": {},
   "outputs": [],
   "source": [
    "missing_t_uri=df.track_uri[df.Track_uri.isna()]\n",
    "missing_t_uri=missing_t_uri.unique()\n",
    "random.shuffle(missing_t_uri)"
   ]
  },
  {
   "cell_type": "code",
   "execution_count": 27,
   "metadata": {},
   "outputs": [
    {
     "name": "stderr",
     "output_type": "stream",
     "text": [
      "100%|█████████████████████████████████████████| 388/388 [01:42<00:00,  3.78it/s]\n"
     ]
    }
   ],
   "source": [
    "f = open('data/track_features.csv','a')\n",
    "for i in tqdm(range(0,len(missing_t_uri),1)):\n",
    "    try:\n",
    "        track_features = sp.tracks(missing_t_uri[i:i+1])\n",
    "        for x in range(1):\n",
    "            track_pop=pd.DataFrame([missing_t_uri[i+x]])\n",
    "            track_pop['release_date']=track_features['tracks'][x]['album']['release_date']\n",
    "            track_pop['pop'] = track_features['tracks'][x][\"popularity\"]\n",
    "            csv_data = track_pop.to_csv(header=False,index=False)\n",
    "            f.write(csv_data)\n",
    "    except Exception as e:\n",
    "        r = open(\"extract_log.txt\", \"a\")\n",
    "        r.write(datetime.datetime.now().strftime(\"%d.%b %Y %H:%M:%S\")+\": \"+str(e)+'\\n')\n",
    "        r.close()\n",
    "        time.sleep(1)\n",
    "        continue\n",
    "f.close()"
   ]
  },
  {
   "cell_type": "markdown",
   "metadata": {},
   "source": [
    "# Droping Unwanted Columns Save Space"
   ]
  },
  {
   "cell_type": "markdown",
   "metadata": {},
   "source": [
    "There were still 101 from audio_features and 576 from track_features extraction that were missing from the soptify api, so I had to drop them."
   ]
  },
  {
   "cell_type": "code",
   "execution_count": 28,
   "metadata": {},
   "outputs": [],
   "source": [
    "df.dropna(axis=0,inplace=True)"
   ]
  },
  {
   "cell_type": "code",
   "execution_count": 29,
   "metadata": {},
   "outputs": [
    {
     "data": {
      "text/plain": [
       "0"
      ]
     },
     "execution_count": 29,
     "metadata": {},
     "output_type": "execute_result"
    }
   ],
   "source": [
    "df.isna().sum().sum()"
   ]
  },
  {
   "cell_type": "code",
   "execution_count": 30,
   "metadata": {},
   "outputs": [
    {
     "data": {
      "text/plain": [
       "Index(['Unnamed: 0', 'track_uri', 'artist_uri', 'album_uri', 'danceability',\n",
       "       'energy', 'key', 'loudness', 'mode', 'speechiness', 'acousticness',\n",
       "       'instrumentalness', 'liveness', 'valence', 'tempo', 'type', 'id', 'uri',\n",
       "       'track_href', 'analysis_url', 'duration_ms', 'time_signature',\n",
       "       'Track_uri', 'Track_release_date', 'Track_pop', 'Artist_uri',\n",
       "       'Artist_pop', 'Artist_genres'],\n",
       "      dtype='object')"
      ]
     },
     "execution_count": 30,
     "metadata": {},
     "output_type": "execute_result"
    }
   ],
   "source": [
    "df.columns"
   ]
  },
  {
   "cell_type": "code",
   "execution_count": 31,
   "metadata": {},
   "outputs": [],
   "source": [
    "df.drop(columns=['Unnamed: 0', 'Track_uri','Artist_uri','type','id','uri','track_href',\n",
    "                 'analysis_url'],axis=1,inplace=True)"
   ]
  },
  {
   "cell_type": "code",
   "execution_count": 32,
   "metadata": {},
   "outputs": [
    {
     "data": {
      "text/html": [
       "<div>\n",
       "<style scoped>\n",
       "    .dataframe tbody tr th:only-of-type {\n",
       "        vertical-align: middle;\n",
       "    }\n",
       "\n",
       "    .dataframe tbody tr th {\n",
       "        vertical-align: top;\n",
       "    }\n",
       "\n",
       "    .dataframe thead th {\n",
       "        text-align: right;\n",
       "    }\n",
       "</style>\n",
       "<table border=\"1\" class=\"dataframe\">\n",
       "  <thead>\n",
       "    <tr style=\"text-align: right;\">\n",
       "      <th></th>\n",
       "      <th>track_uri</th>\n",
       "      <th>artist_uri</th>\n",
       "      <th>album_uri</th>\n",
       "      <th>danceability</th>\n",
       "      <th>energy</th>\n",
       "      <th>key</th>\n",
       "      <th>loudness</th>\n",
       "      <th>mode</th>\n",
       "      <th>speechiness</th>\n",
       "      <th>acousticness</th>\n",
       "      <th>instrumentalness</th>\n",
       "      <th>liveness</th>\n",
       "      <th>valence</th>\n",
       "      <th>tempo</th>\n",
       "      <th>duration_ms</th>\n",
       "      <th>time_signature</th>\n",
       "      <th>Track_release_date</th>\n",
       "      <th>Track_pop</th>\n",
       "      <th>Artist_pop</th>\n",
       "      <th>Artist_genres</th>\n",
       "    </tr>\n",
       "  </thead>\n",
       "  <tbody>\n",
       "    <tr>\n",
       "      <th>0</th>\n",
       "      <td>3uvsVUrAaGQJCTEUR1S3Sx</td>\n",
       "      <td>0ypTT9UqAU5sZpPo5JZmjR</td>\n",
       "      <td>2kIoMj5Ht14l2PnNRa2abC</td>\n",
       "      <td>0.523</td>\n",
       "      <td>0.422</td>\n",
       "      <td>3</td>\n",
       "      <td>-10.385</td>\n",
       "      <td>0</td>\n",
       "      <td>0.027</td>\n",
       "      <td>0.783</td>\n",
       "      <td>0.00514</td>\n",
       "      <td>0.0898</td>\n",
       "      <td>0.145</td>\n",
       "      <td>129.876</td>\n",
       "      <td>242060</td>\n",
       "      <td>4</td>\n",
       "      <td>2016-02-22</td>\n",
       "      <td>0</td>\n",
       "      <td>35</td>\n",
       "      <td>british_singer-songwriter</td>\n",
       "    </tr>\n",
       "  </tbody>\n",
       "</table>\n",
       "</div>"
      ],
      "text/plain": [
       "                track_uri              artist_uri               album_uri  \\\n",
       "0  3uvsVUrAaGQJCTEUR1S3Sx  0ypTT9UqAU5sZpPo5JZmjR  2kIoMj5Ht14l2PnNRa2abC   \n",
       "\n",
       "  danceability energy key loudness mode speechiness acousticness  \\\n",
       "0        0.523  0.422   3  -10.385    0       0.027        0.783   \n",
       "\n",
       "  instrumentalness liveness valence    tempo duration_ms time_signature  \\\n",
       "0          0.00514   0.0898   0.145  129.876      242060              4   \n",
       "\n",
       "  Track_release_date Track_pop Artist_pop              Artist_genres  \n",
       "0         2016-02-22         0         35  british_singer-songwriter  "
      ]
     },
     "execution_count": 32,
     "metadata": {},
     "output_type": "execute_result"
    }
   ],
   "source": [
    "df.head(1)"
   ]
  },
  {
   "cell_type": "code",
   "execution_count": 33,
   "metadata": {},
   "outputs": [
    {
     "data": {
      "text/plain": [
       "(300528, 20)"
      ]
     },
     "execution_count": 33,
     "metadata": {},
     "output_type": "execute_result"
    }
   ],
   "source": [
    "df.shape"
   ]
  },
  {
   "cell_type": "code",
   "execution_count": null,
   "metadata": {},
   "outputs": [],
   "source": []
  },
  {
   "cell_type": "markdown",
   "metadata": {},
   "source": [
    "## Data Preprocessing"
   ]
  },
  {
   "cell_type": "markdown",
   "metadata": {},
   "source": [
    "Create five point buckets for track and artist popularity .\n",
    "\n",
    "and 50 point buckets for the track release date."
   ]
  },
  {
   "cell_type": "code",
   "execution_count": 34,
   "metadata": {},
   "outputs": [
    {
     "name": "stdout",
     "output_type": "stream",
     "text": [
      "<class 'pandas.core.frame.DataFrame'>\n",
      "Int64Index: 300528 entries, 0 to 300917\n",
      "Data columns (total 20 columns):\n",
      " #   Column              Non-Null Count   Dtype \n",
      "---  ------              --------------   ----- \n",
      " 0   track_uri           300528 non-null  object\n",
      " 1   artist_uri          300528 non-null  object\n",
      " 2   album_uri           300528 non-null  object\n",
      " 3   danceability        300528 non-null  object\n",
      " 4   energy              300528 non-null  object\n",
      " 5   key                 300528 non-null  object\n",
      " 6   loudness            300528 non-null  object\n",
      " 7   mode                300528 non-null  object\n",
      " 8   speechiness         300528 non-null  object\n",
      " 9   acousticness        300528 non-null  object\n",
      " 10  instrumentalness    300528 non-null  object\n",
      " 11  liveness            300528 non-null  object\n",
      " 12  valence             300528 non-null  object\n",
      " 13  tempo               300528 non-null  object\n",
      " 14  duration_ms         300528 non-null  object\n",
      " 15  time_signature      300528 non-null  object\n",
      " 16  Track_release_date  300528 non-null  object\n",
      " 17  Track_pop           300528 non-null  object\n",
      " 18  Artist_pop          300528 non-null  object\n",
      " 19  Artist_genres       300528 non-null  object\n",
      "dtypes: object(20)\n",
      "memory usage: 48.1+ MB\n"
     ]
    }
   ],
   "source": [
    "df.info()"
   ]
  },
  {
   "cell_type": "code",
   "execution_count": 36,
   "metadata": {},
   "outputs": [],
   "source": [
    "df['Track_pop'] = df['Track_pop'].apply(lambda x: int(x)/5)\n",
    "df['Artist_pop'] = df['Artist_pop'].apply(lambda x: int(x)/5)"
   ]
  },
  {
   "cell_type": "code",
   "execution_count": 37,
   "metadata": {},
   "outputs": [],
   "source": [
    "df['Track_release_date'] = df['Track_release_date'].apply(lambda x: x.split('-')[0])\n",
    "df['Track_release_date']=df['Track_release_date'].astype('int16')\n",
    "df['Track_release_date'] = df['Track_release_date'].apply(lambda x: int(x/50))"
   ]
  },
  {
   "cell_type": "code",
   "execution_count": 38,
   "metadata": {},
   "outputs": [
    {
     "data": {
      "text/html": [
       "<div>\n",
       "<style scoped>\n",
       "    .dataframe tbody tr th:only-of-type {\n",
       "        vertical-align: middle;\n",
       "    }\n",
       "\n",
       "    .dataframe tbody tr th {\n",
       "        vertical-align: top;\n",
       "    }\n",
       "\n",
       "    .dataframe thead th {\n",
       "        text-align: right;\n",
       "    }\n",
       "</style>\n",
       "<table border=\"1\" class=\"dataframe\">\n",
       "  <thead>\n",
       "    <tr style=\"text-align: right;\">\n",
       "      <th></th>\n",
       "      <th>track_uri</th>\n",
       "      <th>artist_uri</th>\n",
       "      <th>album_uri</th>\n",
       "      <th>danceability</th>\n",
       "      <th>energy</th>\n",
       "      <th>key</th>\n",
       "      <th>loudness</th>\n",
       "      <th>mode</th>\n",
       "      <th>speechiness</th>\n",
       "      <th>acousticness</th>\n",
       "      <th>instrumentalness</th>\n",
       "      <th>liveness</th>\n",
       "      <th>valence</th>\n",
       "      <th>tempo</th>\n",
       "      <th>duration_ms</th>\n",
       "      <th>time_signature</th>\n",
       "      <th>Track_release_date</th>\n",
       "      <th>Track_pop</th>\n",
       "      <th>Artist_pop</th>\n",
       "      <th>Artist_genres</th>\n",
       "    </tr>\n",
       "  </thead>\n",
       "  <tbody>\n",
       "    <tr>\n",
       "      <th>0</th>\n",
       "      <td>3uvsVUrAaGQJCTEUR1S3Sx</td>\n",
       "      <td>0ypTT9UqAU5sZpPo5JZmjR</td>\n",
       "      <td>2kIoMj5Ht14l2PnNRa2abC</td>\n",
       "      <td>0.523</td>\n",
       "      <td>0.422</td>\n",
       "      <td>3</td>\n",
       "      <td>-10.385</td>\n",
       "      <td>0</td>\n",
       "      <td>0.027</td>\n",
       "      <td>0.783</td>\n",
       "      <td>0.00514</td>\n",
       "      <td>0.0898</td>\n",
       "      <td>0.145</td>\n",
       "      <td>129.876</td>\n",
       "      <td>242060</td>\n",
       "      <td>4</td>\n",
       "      <td>40</td>\n",
       "      <td>0.0</td>\n",
       "      <td>7.0</td>\n",
       "      <td>british_singer-songwriter</td>\n",
       "    </tr>\n",
       "  </tbody>\n",
       "</table>\n",
       "</div>"
      ],
      "text/plain": [
       "                track_uri              artist_uri               album_uri  \\\n",
       "0  3uvsVUrAaGQJCTEUR1S3Sx  0ypTT9UqAU5sZpPo5JZmjR  2kIoMj5Ht14l2PnNRa2abC   \n",
       "\n",
       "  danceability energy key loudness mode speechiness acousticness  \\\n",
       "0        0.523  0.422   3  -10.385    0       0.027        0.783   \n",
       "\n",
       "  instrumentalness liveness valence    tempo duration_ms time_signature  \\\n",
       "0          0.00514   0.0898   0.145  129.876      242060              4   \n",
       "\n",
       "   Track_release_date  Track_pop  Artist_pop              Artist_genres  \n",
       "0                  40        0.0         7.0  british_singer-songwriter  "
      ]
     },
     "execution_count": 38,
     "metadata": {},
     "output_type": "execute_result"
    }
   ],
   "source": [
    "df.head(1)"
   ]
  },
  {
   "cell_type": "code",
   "execution_count": 39,
   "metadata": {},
   "outputs": [
    {
     "data": {
      "text/plain": [
       "(300528, 20)"
      ]
     },
     "execution_count": 39,
     "metadata": {},
     "output_type": "execute_result"
    }
   ],
   "source": [
    "df.shape"
   ]
  },
  {
   "cell_type": "code",
   "execution_count": 40,
   "metadata": {},
   "outputs": [],
   "source": [
    "df.to_csv('data/1M_unique_processed_data.csv',index=False)"
   ]
  },
  {
   "cell_type": "code",
   "execution_count": null,
   "metadata": {},
   "outputs": [],
   "source": []
  }
 ],
 "metadata": {
  "kernelspec": {
   "display_name": "Python 3 (ipykernel)",
   "language": "python",
   "name": "python3"
  },
  "language_info": {
   "codemirror_mode": {
    "name": "ipython",
    "version": 3
   },
   "file_extension": ".py",
   "mimetype": "text/x-python",
   "name": "python",
   "nbconvert_exporter": "python",
   "pygments_lexer": "ipython3",
   "version": "3.11.2"
  },
  "vscode": {
   "interpreter": {
    "hash": "e246d2215c418239c9316a1ebf2d8abb44dc50b2e5b0e29defd87143398aa387"
   }
  }
 },
 "nbformat": 4,
 "nbformat_minor": 2
}
